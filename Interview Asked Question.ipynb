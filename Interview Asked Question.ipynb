{
 "cells": [
  {
   "cell_type": "markdown",
   "id": "3c6e13e9",
   "metadata": {},
   "source": [
    "##### 1) What is \"stationarity\" and \"white noise\"  in the context of time series analysis ?"
   ]
  },
  {
   "cell_type": "markdown",
   "id": "2867173e",
   "metadata": {},
   "source": [
    "Stationarity:-  A time series is said to be stationary if its statistical properties, such as mean, variance, and autocorrelation, do not change over time. Stationarity is a crucial assumption for many time series models because it simplifies the modeling process. Non-stationary time series may exhibit trends or seasonality, making it challenging to make accurate predictions.\n",
    "White noise:-  White noise is a special case of a stationary time series where each observation is independent and has the same probability distribution with a constant mean and variance. "
   ]
  },
  {
   "cell_type": "markdown",
   "id": "c70e84be",
   "metadata": {},
   "source": [
    "#### 2) What is difference between One-Way ANOVA and Two-Way ANOVA"
   ]
  },
  {
   "cell_type": "markdown",
   "id": "30ba1603",
   "metadata": {},
   "source": [
    "One way anova:- \n",
    "One-way ANOVA is used when there is one independent variable (factor) with more than two levels or groups, and you want to determine if there are any statistically significant differences among the means of these groups.\n",
    "Example: Suppose you are comparing the mean scores of students from three different teaching methods to see if there is a significant difference in their \n",
    "Two-way ANOVA:-\n",
    "Two-way ANOVA is an extension of one-way ANOVA and is used when there are two independent variables (factors) influencing the dependent variable. It explores how these two factors interact and whether their effects are independent or dependent.\n",
    "Example: Suppose you are studying the effects of both teaching method and gender on student performance"
   ]
  },
  {
   "cell_type": "markdown",
   "id": "3fb19e7a",
   "metadata": {},
   "source": [
    "#### 3) what is outliers and how outliers are calculated in dataset.?"
   ]
  },
  {
   "cell_type": "markdown",
   "id": "0ed24f47",
   "metadata": {},
   "source": [
    "IQR (Interquartile Range)"
   ]
  },
  {
   "cell_type": "markdown",
   "id": "b64a8534",
   "metadata": {},
   "source": [
    "#### 4) 2 dice are freely tossed what is the probability of getting sum = 5"
   ]
  },
  {
   "cell_type": "markdown",
   "id": "69716308",
   "metadata": {},
   "source": [
    "1/9"
   ]
  },
  {
   "cell_type": "markdown",
   "id": "979ed642",
   "metadata": {},
   "source": [
    "#### 5) Relation between salary and height which statistical testing is applied?"
   ]
  },
  {
   "cell_type": "markdown",
   "id": "b26efb87",
   "metadata": {},
   "source": [
    "Correlation Analysis:\n",
    "\n",
    "Correlation measures the strength and direction of a linear relationship between two continuous variables. The Pearson correlation coefficient (often denoted as r) is commonly used for this purpose. It ranges from -1 to 1, where:\n",
    "\n",
    "r=1 indicates a perfect positive linear correlation,\n",
    "\n",
    "r=−1 indicates a perfect negative linear correlation,\n",
    "\n",
    "r=0 indicates no linear correlation.."
   ]
  },
  {
   "cell_type": "markdown",
   "id": "5ad26320",
   "metadata": {},
   "source": [
    "#### 6) What is wrong in the SQL query\n",
    "#####    select sum(price), category from products"
   ]
  },
  {
   "cell_type": "markdown",
   "id": "84500eca",
   "metadata": {},
   "source": [
    "1) alias missing    2) group by missing"
   ]
  },
  {
   "cell_type": "markdown",
   "id": "90f0ab76",
   "metadata": {},
   "source": [
    "#### 7) order of execution in sql"
   ]
  },
  {
   "cell_type": "markdown",
   "id": "b8edb8e7",
   "metadata": {},
   "source": [
    "1) from 2)join 3) where 4) group by 5) having 6)select 7)distinct 8) order by 9) limit "
   ]
  },
  {
   "cell_type": "markdown",
   "id": "560ad464",
   "metadata": {},
   "source": [
    "#### 8)Difference between union and union all"
   ]
  },
  {
   "cell_type": "markdown",
   "id": "17a0db08",
   "metadata": {},
   "source": [
    "union remove duplicate values while union all doesnot remove duplicate values"
   ]
  },
  {
   "cell_type": "markdown",
   "id": "e5d9646f",
   "metadata": {},
   "source": [
    "#### 9) count number of duplicate values"
   ]
  },
  {
   "cell_type": "markdown",
   "id": "a3096d9c",
   "metadata": {},
   "source": [
    "SELECT your_column, COUNT(*) AS duplicate_count\n",
    "FROM your_table\n",
    "GROUP BY your_column\n",
    "HAVING COUNT(*) > 1"
   ]
  },
  {
   "cell_type": "markdown",
   "id": "2ec71601",
   "metadata": {},
   "source": [
    "#### 10) Use of offset and coalesce in sql"
   ]
  },
  {
   "cell_type": "markdown",
   "id": "3e1fcf7b",
   "metadata": {},
   "source": [
    "OFFSET is typically used in combination with the LIMIT clause to control the number of rows returned by a query and to skip a certain number of rows from the beginning of the result set\n",
    "Coalesce is particularly useful when you want to handle NULL values and provide a default value if a column or expression evaluates to NULL.\n"
   ]
  },
  {
   "cell_type": "markdown",
   "id": "e080e55c",
   "metadata": {},
   "source": [
    "#### 11) Degree of freedom"
   ]
  },
  {
   "cell_type": "markdown",
   "id": "3a25a7e4",
   "metadata": {},
   "source": [
    "In the context of statistical hypothesis testing, degrees of freedom are associated with the variability within a set of data. \n",
    "\n",
    "In a t-test, the degrees of freedom are related to the sample size and are used to determine the shape of the t-distribution. For example, in a two-sample t-test, the degrees of freedom are equal to the sum of the sample sizes minus \n",
    "\n",
    "In ANOVA, there are degrees of freedom associated with both the numerator and denominator of the F-statistic, which is used to test for differences among group means.\n",
    "\n",
    "In the chi-square test for independence, degrees of freedom are used to determine the critical values for the chi-square distribution"
   ]
  },
  {
   "cell_type": "markdown",
   "id": "00313169",
   "metadata": {},
   "source": [
    "##### Overall questions\n",
    "What is the probability of throwing two fair dice when the sum is 5?\n",
    "\n",
    "5/6\n",
    "1/9\n",
    "1/6\n",
    "How can outliers be determined in a dataset?\n",
    "\n",
    "HR thinks that the height of a person determines the salary of the person. What would be your approach to check this statement?\n",
    "Query all attributes of every Japanese city in the CITY table. The COUNTRYCODE for Japan is JPN.\n",
    "Captionless Image\n",
    "Identify the issue with the SQL code below:\n",
    "\n",
    "SELECT sum(price), category\n",
    "\n",
    "FROM products\n",
    "\n",
    "Given the CITY and COUNTRY tables, query the sum of the populations of all cities where the CONTINENT is 'Asia'.\n",
    "\n",
    "Note: CITY.CountryCode and COUNTRY.Code are matching key columns.\n",
    "\n",
    "Captionless Image\n",
    "What is the difference between descriptive and predictive statistics?\n",
    "Which one is a correct type of visualisation to display the proportion of participants in a scientific study?\n",
    "\n",
    "A pie chart\n",
    "\n",
    "B bargraph\n",
    "Why?"
   ]
  },
  {
   "cell_type": "code",
   "execution_count": null,
   "id": "b912f599",
   "metadata": {},
   "outputs": [],
   "source": []
  }
 ],
 "metadata": {
  "kernelspec": {
   "display_name": "Python 3 (ipykernel)",
   "language": "python",
   "name": "python3"
  },
  "language_info": {
   "codemirror_mode": {
    "name": "ipython",
    "version": 3
   },
   "file_extension": ".py",
   "mimetype": "text/x-python",
   "name": "python",
   "nbconvert_exporter": "python",
   "pygments_lexer": "ipython3",
   "version": "3.11.4"
  }
 },
 "nbformat": 4,
 "nbformat_minor": 5
}
